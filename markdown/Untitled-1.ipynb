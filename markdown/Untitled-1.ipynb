{
 "cells": [
  {
   "cell_type": "code",
   "execution_count": 50,
   "metadata": {},
   "outputs": [],
   "source": [
    "formats = {\n",
    "            \"bold_1\": r\"\\*\\*(.*)\\*\\*\",\n",
    "            \"bold_2\": r\"__(.*)__ \",         \n",
    "            \"italic_1\": r\"(?<!\\*)\\*(?!\\*)(.*)\\*\",\n",
    "            \"italic_2\": r\"_(.*)_ \",\n",
    "        }"
   ]
  },
  {
   "cell_type": "code",
   "execution_count": 51,
   "metadata": {},
   "outputs": [],
   "source": [
    "test = \"Hello **How** are *you*\""
   ]
  },
  {
   "cell_type": "code",
   "execution_count": 52,
   "metadata": {},
   "outputs": [],
   "source": [
    "import re"
   ]
  },
  {
   "cell_type": "code",
   "execution_count": 53,
   "metadata": {},
   "outputs": [
    {
     "name": "stdout",
     "output_type": "stream",
     "text": [
      "\\*\\*(.*)\\*\\*\n",
      "6\n",
      " __(.*)__ \n",
      "(?<!\\*)\\*(?!\\*)(.*)\\*\n",
      "18\n",
      " _(.*)_ \n"
     ]
    }
   ],
   "source": [
    "for format in formats.values():\n",
    "    print(format)\n",
    "    if re.search(format, test):\n",
    "        print(re.search(format, test).start())"
   ]
  },
  {
   "cell_type": "code",
   "execution_count": 65,
   "metadata": {},
   "outputs": [],
   "source": [
    "i = \"__This will be bold__\"\n",
    "\n",
    "bold = {\n",
    "            \"bold_1\": r\"\\*\\*(.*)\\*\\*\",\n",
    "            \"bold_2\": r\"__(.*)__\" # Possibly add look behind\n",
    "        }\n",
    "            \n",
    "italic = {               \n",
    "            \"italic_1\": r\"(?<!\\*)\\*(?!\\*)(.*)\\*\",\n",
    "            \"italic_2\": r\"_(.*)_\"\n",
    "        }\n",
    "        \n",
    "for val in bold.values():\n",
    "            if re.search(val, i):\n",
    "                m1 = re.search(val, i)\n",
    "                i = m1.string[0:m1.start()]+\" <strong>\"+m1.group(1)+\"</strong>\"+m1.string[m1.end():]"
   ]
  },
  {
   "cell_type": "code",
   "execution_count": 66,
   "metadata": {},
   "outputs": [
    {
     "data": {
      "text/plain": [
       "' <strong>This will be bold</strong>'"
      ]
     },
     "execution_count": 66,
     "metadata": {},
     "output_type": "execute_result"
    }
   ],
   "source": [
    "i"
   ]
  },
  {
   "cell_type": "code",
   "execution_count": null,
   "metadata": {},
   "outputs": [],
   "source": []
  }
 ],
 "metadata": {
  "interpreter": {
   "hash": "001363fbe7007211f91ba91fc3e3495daf5012264151154dab680661aae69b52"
  },
  "kernelspec": {
   "display_name": "Python 3.9.9 64-bit",
   "language": "python",
   "name": "python3"
  },
  "language_info": {
   "codemirror_mode": {
    "name": "ipython",
    "version": 3
   },
   "file_extension": ".py",
   "mimetype": "text/x-python",
   "name": "python",
   "nbconvert_exporter": "python",
   "pygments_lexer": "ipython3",
   "version": "3.9.9"
  },
  "orig_nbformat": 4
 },
 "nbformat": 4,
 "nbformat_minor": 2
}
